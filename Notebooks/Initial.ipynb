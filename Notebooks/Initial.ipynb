{
 "cells": [
  {
   "cell_type": "code",
   "execution_count": 81,
   "id": "stylish-maker",
   "metadata": {},
   "outputs": [],
   "source": [
    "# compare ensemble to each standalone models for regression\n",
    "import pandas as pd\n",
    "import numpy as np\n",
    "from numpy import mean\n",
    "from numpy import std\n",
    "from sklearn.datasets import make_regression\n",
    "from sklearn.model_selection import cross_val_score\n",
    "from sklearn.model_selection import RepeatedKFold\n",
    "from sklearn.linear_model import LinearRegression\n",
    "from sklearn.neighbors import KNeighborsRegressor\n",
    "from sklearn.tree import DecisionTreeRegressor\n",
    "from sklearn.svm import SVR\n",
    "from sklearn.ensemble import StackingRegressor\n",
    "from matplotlib import pyplot\n",
    "from sklearn.linear_model import Lasso, ElasticNet\n",
    "from sklearn.kernel_ridge import KernelRidge\n",
    "from sklearn.pipeline import Pipeline\n",
    "from sklearn.neural_network import MLPRegressor\n",
    "from sklearn.preprocessing import PolynomialFeatures, LabelEncoder\n",
    "from sklearn.ensemble import GradientBoostingRegressor\n",
    "from sklearn.ensemble import RandomForestClassifier\n",
    "from sklearn.model_selection import train_test_split\n",
    "from sklearn.model_selection import KFold "
   ]
  },
  {
   "cell_type": "code",
   "execution_count": 76,
   "id": "political-stocks",
   "metadata": {},
   "outputs": [],
   "source": [
    " # get the dataset\n",
    "kc = pd.read_csv('train.csv')\n",
    "\n",
    "X = kc[['phi', 's', 'tau', 'Fss_1', 'Fss_2', 'Fss_3', 'Fss_4', 'Fss_5',\n",
    " 'Fss_6', 'Fss_7', 'Fss_8', 'Fss_9', 'Fss_10', 'Fss_11', 'Fss_12', 'Fss_13',\n",
    " 'Fss_14', 'Fss_15', 'Fss_16', 'Fss_17', 'Fss_18', 'Fss_19', 'Fss_20', 'Fss_21',\n",
    " 'Fss_22', 'Fss_23', 'Fss_24', 'Fss_25', 'Fss_26', 'Fss_27', 'Fss_28', 'Fss_29',\n",
    " 'Fss_30', 'Fss_31','Fss_32', 'Fss_33', 'Fss_34', 'Fss_35', 'Fss_36', 'Fss_37', 'Fss_38', 'Fss_39',\n",
    " 'Fss_40', 'Fss_41', 'Fss_42', 'Fss_43', 'Fss_44', 'Fss_45', 'Fss_46', 'Fss_47',\n",
    " 'Fss_48', 'Fss_49', 'Fss_50', 'Fss_51', 'Fss_52', 'Fss_53', 'Fss_54', 'Fss_55',\n",
    " 'Fss_56', 'Fss_57', 'Fss_58', 'Fss_59', 'Fss_60', 'Fss_61', 'Fss_62', 'Fss_63',\n",
    " 'Fss_64', 'Fss_65', 'Fss_66', 'Fss_67', 'Fss_68', 'Fss_69', 'Fss_70', 'Fss_71',\n",
    " 'Fss_72', 'Fss_73', 'Fss_74', 'Fss_75', 'Fss_76', 'Fss_77', 'Fss_78', 'Fss_79',\n",
    " 'Fss_80', 'Fss_81', 'Fss_82', 'Fss_83', 'Fss_84', 'Fss_85', 'Fss_86', 'Fss_87',\n",
    " 'Fss_88', 'Fss_89', 'Fss_90', 'Fss_91', 'Fss_92', 'Fss_93', 'Fss_94', 'Fss_95',\n",
    " 'Fss_96', 'Fsv_1', 'Fsv_2', 'Fsv_3', 'Fsv_4', 'Fsv_5', 'Fsv_6', 'Fsv_7', 'Fsv_8', 'Fsv_9', 'Fsv_10', 'Fsv_11', 'Fsv_12', 'Fsv_13', 'Fsv_14', 'Fsv_15',\n",
    " 'Fsv_16', 'Fsv_17', 'Fsv_18', 'Fsv_19', 'Fsv_20', 'Fsv_21', 'Fsv_22', 'Fsv_23',\n",
    " 'Fsv_24', 'Fsv_25', 'Fsv_26', 'Fsv_27', 'Fsv_28', 'Fsv_29', 'Fsv_30', 'Fsv_31', 'Fsv_32', 'Fsv_33', 'Fsv_34', 'Fsv_35', 'Fsv_36', 'Fsv_37',\n",
    " 'Fsv_38', 'Fsv_39', 'Fsv_40', 'Fsv_41', 'Fsv_42', 'Fsv_43', 'Fsv_44', 'Fsv_45',\n",
    " 'Fsv_46', 'Fsv_47', 'Fsv_48', 'Fsv_49', 'Fsv_50', 'Fsv_51', 'Fsv_52', 'Fsv_53',\n",
    " 'Fsv_54', 'Fsv_55', 'Fsv_56', 'Fsv_57', 'Fsv_58', 'Fsv_59', 'Fsv_60', 'Fsv_61',\n",
    " 'Fsv_62', 'Fsv_63', 'Fsv_64', 'Fsv_65', 'Fsv_66', 'Fsv_67', 'Fsv_68', 'Fsv_69',\n",
    " 'Fsv_70', 'Fsv_71', 'Fsv_72', 'Fsv_73', 'Fsv_74', 'Fsv_75', 'Fsv_76', 'Fsv_77', 'Fsv_78', 'Fsv_79',\n",
    " 'Fsv_80', 'Fsv_81', 'Fsv_82', 'Fsv_83', 'Fsv_84', 'Fsv_85', 'Fsv_86', 'Fsv_87',\n",
    " 'Fsv_88', 'Fsv_89', 'Fsv_90', 'Fsv_91', 'Fsv_92', 'Fsv_93', 'Fsv_94', 'Fsv_95',\n",
    " 'Fsv_96', 'Fvv_1', 'Fvv_2', 'Fvv_3', 'Fvv_4', 'Fvv_5', 'Fvv_6', 'Fvv_7', 'Fvv_8', 'Fvv_9', 'Fvv_10', 'Fvv_11', 'Fvv_12', 'Fvv_13', 'Fvv_14', 'Fvv_15', 'Fvv_16', 'Fvv_17', 'Fvv_18', 'Fvv_19', 'Fvv_20', 'Fvv_21', 'Fvv_22', 'Fvv_23', 'Fvv_24', 'Fvv_25', 'Fvv_26', 'Fvv_27', 'Fvv_28', 'Fvv_29', 'Fvv_30', 'Fvv_31', 'Fvv_32', 'Fvv_33', 'Fvv_34', 'Fvv_35', 'Fvv_36', 'Fvv_37', 'Fvv_38', 'Fvv_39', 'Fvv_40', 'Fvv_41', 'Fvv_42', 'Fvv_43', 'Fvv_44', 'Fvv_45', 'Fvv_46', 'Fvv_47', 'Fvv_48', 'Fvv_49', 'Fvv_50', 'Fvv_51', 'Fvv_52', 'Fvv_53', 'Fvv_54', 'Fvv_55', 'Fvv_56', 'Fvv_57', 'Fvv_58', 'Fvv_59', 'Fvv_60', 'Fvv_61', 'Fvv_62', 'Fvv_63', 'Fvv_64', 'Fvv_65', 'Fvv_66',\n",
    " 'Fvv_67','Fvv_68', 'Fvv_69', 'Fvv_70', 'Fvv_71', 'Fvv_72','Fvv_73', 'Fvv_74', 'Fvv_75', 'Fvv_76',\n",
    " 'Fvv_77','Fvv_78', 'Fvv_79', 'Fvv_80','Fvv_81', 'Fvv_82', 'Fvv_83', 'Fvv_84', 'Fvv_85', 'Fvv_86',\n",
    " 'Fvv_87','Fvv_88', 'Fvv_89', 'Fvv_90', 'Fvv_91', 'Fvv_92','Fvv_93', 'Fvv_94', 'Fvv_95', 'Fvv_96']]\n",
    "y = kc['permeability']\n"
   ]
  },
  {
   "cell_type": "code",
   "execution_count": 77,
   "id": "worthy-transport",
   "metadata": {},
   "outputs": [],
   "source": [
    "X_train, X_test, y_train, y_test = train_test_split(X, y, random_state = 321)"
   ]
  },
  {
   "cell_type": "code",
   "execution_count": 84,
   "id": "authorized-judgment",
   "metadata": {},
   "outputs": [],
   "source": [
    "#Validation function\n",
    "n_folds = 5\n",
    "\n",
    "def rmse_cv(model):\n",
    "    kf = KFold(n_folds, shuffle=True, random_state=42).get_n_splits(X_train.values)\n",
    "    rmse= np.sqrt(-cross_val_score(model, X_train.values, y_train, scoring=\"neg_mean_squared_error\", cv = kf))\n",
    "    return(rmse)"
   ]
  },
  {
   "cell_type": "code",
   "execution_count": 86,
   "id": "devoted-cabin",
   "metadata": {},
   "outputs": [
    {
     "name": "stderr",
     "output_type": "stream",
     "text": [
      "C:\\Users\\alvin\\anaconda3\\envs\\keras_env\\lib\\site-packages\\sklearn\\linear_model\\_coordinate_descent.py:532: ConvergenceWarning: Objective did not converge. You might want to increase the number of iterations. Duality gap: 88994.66145362568, tolerance: 113.64546809220093\n",
      "  positive)\n",
      "C:\\Users\\alvin\\anaconda3\\envs\\keras_env\\lib\\site-packages\\sklearn\\linear_model\\_coordinate_descent.py:532: ConvergenceWarning: Objective did not converge. You might want to increase the number of iterations. Duality gap: 74882.45752875751, tolerance: 111.97595024975767\n",
      "  positive)\n",
      "C:\\Users\\alvin\\anaconda3\\envs\\keras_env\\lib\\site-packages\\sklearn\\linear_model\\_coordinate_descent.py:532: ConvergenceWarning: Objective did not converge. You might want to increase the number of iterations. Duality gap: 82159.84103156948, tolerance: 117.46487450404838\n",
      "  positive)\n",
      "C:\\Users\\alvin\\anaconda3\\envs\\keras_env\\lib\\site-packages\\sklearn\\linear_model\\_coordinate_descent.py:532: ConvergenceWarning: Objective did not converge. You might want to increase the number of iterations. Duality gap: 81942.2299849696, tolerance: 119.48649016396108\n",
      "  positive)\n",
      "C:\\Users\\alvin\\anaconda3\\envs\\keras_env\\lib\\site-packages\\sklearn\\linear_model\\_coordinate_descent.py:532: ConvergenceWarning: Objective did not converge. You might want to increase the number of iterations. Duality gap: 84965.43253308977, tolerance: 119.50868922990857\n",
      "  positive)\n"
     ]
    },
    {
     "data": {
      "text/plain": [
       "array([3.38533079, 3.59115555, 3.03612036, 2.80853359, 3.01205806])"
      ]
     },
     "execution_count": 86,
     "metadata": {},
     "output_type": "execute_result"
    }
   ],
   "source": [
    "lasso = Lasso(alpha =0.0005)\n",
    "rmse_cv(lasso)"
   ]
  },
  {
   "cell_type": "code",
   "execution_count": 87,
   "id": "alpine-animal",
   "metadata": {},
   "outputs": [
    {
     "name": "stderr",
     "output_type": "stream",
     "text": [
      "C:\\Users\\alvin\\anaconda3\\envs\\keras_env\\lib\\site-packages\\sklearn\\linear_model\\_coordinate_descent.py:532: ConvergenceWarning: Objective did not converge. You might want to increase the number of iterations. Duality gap: 74047.90741828026, tolerance: 113.64546809220093\n",
      "  positive)\n",
      "C:\\Users\\alvin\\anaconda3\\envs\\keras_env\\lib\\site-packages\\sklearn\\linear_model\\_coordinate_descent.py:532: ConvergenceWarning: Objective did not converge. You might want to increase the number of iterations. Duality gap: 71920.06731698138, tolerance: 111.97595024975767\n",
      "  positive)\n",
      "C:\\Users\\alvin\\anaconda3\\envs\\keras_env\\lib\\site-packages\\sklearn\\linear_model\\_coordinate_descent.py:532: ConvergenceWarning: Objective did not converge. You might want to increase the number of iterations. Duality gap: 81358.20842788932, tolerance: 117.46487450404838\n",
      "  positive)\n",
      "C:\\Users\\alvin\\anaconda3\\envs\\keras_env\\lib\\site-packages\\sklearn\\linear_model\\_coordinate_descent.py:532: ConvergenceWarning: Objective did not converge. You might want to increase the number of iterations. Duality gap: 83993.24511037086, tolerance: 119.48649016396108\n",
      "  positive)\n",
      "C:\\Users\\alvin\\anaconda3\\envs\\keras_env\\lib\\site-packages\\sklearn\\linear_model\\_coordinate_descent.py:532: ConvergenceWarning: Objective did not converge. You might want to increase the number of iterations. Duality gap: 82609.85114707456, tolerance: 119.50868922990857\n",
      "  positive)\n"
     ]
    },
    {
     "data": {
      "text/plain": [
       "array([3.78974185, 4.01845479, 3.40876028, 3.18301602, 3.34778729])"
      ]
     },
     "execution_count": 87,
     "metadata": {},
     "output_type": "execute_result"
    }
   ],
   "source": [
    "ENet = ElasticNet(alpha=0.0005, l1_ratio=.9)\n",
    "rmse_cv(ENet)"
   ]
  },
  {
   "cell_type": "code",
   "execution_count": 88,
   "id": "relevant-silly",
   "metadata": {},
   "outputs": [
    {
     "data": {
      "text/plain": [
       "array([4.45922258, 4.70954132, 3.92836392, 3.63758765, 3.79961503])"
      ]
     },
     "execution_count": 88,
     "metadata": {},
     "output_type": "execute_result"
    }
   ],
   "source": [
    "KRR = KernelRidge(alpha=0.6, kernel='polynomial', degree=2, coef0=2.5)\n",
    "rmse_cv(KRR)"
   ]
  },
  {
   "cell_type": "code",
   "execution_count": 92,
   "id": "acting-gospel",
   "metadata": {},
   "outputs": [
    {
     "data": {
      "text/plain": [
       "array([1.12260641, 1.25515593, 1.02008027, 0.8691846 , 1.03851775])"
      ]
     },
     "execution_count": 92,
     "metadata": {},
     "output_type": "execute_result"
    }
   ],
   "source": [
    "GBoost = GradientBoostingRegressor(n_estimators=1000, learning_rate=0.05,max_depth=4,max_features='sqrt',min_samples_leaf=15, min_samples_split=10,loss='huber')\n",
    "rmse_cv(GBoost)"
   ]
  },
  {
   "cell_type": "code",
   "execution_count": 51,
   "id": "variable-disability",
   "metadata": {},
   "outputs": [
    {
     "ename": "NameError",
     "evalue": "name 'lgb' is not defined",
     "output_type": "error",
     "traceback": [
      "\u001b[1;31m---------------------------------------------------------------------------\u001b[0m",
      "\u001b[1;31mNameError\u001b[0m                                 Traceback (most recent call last)",
      "\u001b[1;32m<ipython-input-51-1aad1c6000af>\u001b[0m in \u001b[0;36m<module>\u001b[1;34m\u001b[0m\n\u001b[1;32m----> 1\u001b[1;33m model_lgb = lgb.LGBMRegressor(objective='regression',num_leaves=5,\n\u001b[0m\u001b[0;32m      2\u001b[0m                               \u001b[0mlearning_rate\u001b[0m\u001b[1;33m=\u001b[0m\u001b[1;36m0.05\u001b[0m\u001b[1;33m,\u001b[0m \u001b[0mn_estimators\u001b[0m\u001b[1;33m=\u001b[0m\u001b[1;36m720\u001b[0m\u001b[1;33m,\u001b[0m\u001b[1;33m\u001b[0m\u001b[1;33m\u001b[0m\u001b[0m\n\u001b[0;32m      3\u001b[0m                               \u001b[0mmax_bin\u001b[0m \u001b[1;33m=\u001b[0m \u001b[1;36m55\u001b[0m\u001b[1;33m,\u001b[0m \u001b[0mbagging_fraction\u001b[0m \u001b[1;33m=\u001b[0m \u001b[1;36m0.8\u001b[0m\u001b[1;33m,\u001b[0m\u001b[1;33m\u001b[0m\u001b[1;33m\u001b[0m\u001b[0m\n\u001b[0;32m      4\u001b[0m                               \u001b[0mbagging_freq\u001b[0m \u001b[1;33m=\u001b[0m \u001b[1;36m5\u001b[0m\u001b[1;33m,\u001b[0m \u001b[0mfeature_fraction\u001b[0m \u001b[1;33m=\u001b[0m \u001b[1;36m0.2319\u001b[0m\u001b[1;33m,\u001b[0m\u001b[1;33m\u001b[0m\u001b[1;33m\u001b[0m\u001b[0m\n\u001b[0;32m      5\u001b[0m                               \u001b[0mfeature_fraction_seed\u001b[0m\u001b[1;33m=\u001b[0m\u001b[1;36m9\u001b[0m\u001b[1;33m,\u001b[0m \u001b[0mbagging_seed\u001b[0m\u001b[1;33m=\u001b[0m\u001b[1;36m9\u001b[0m\u001b[1;33m,\u001b[0m\u001b[1;33m\u001b[0m\u001b[1;33m\u001b[0m\u001b[0m\n",
      "\u001b[1;31mNameError\u001b[0m: name 'lgb' is not defined"
     ]
    }
   ],
   "source": [
    "model_lgb = lgb.LGBMRegressor(objective='regression',num_leaves=5,\n",
    "                              learning_rate=0.05, n_estimators=720,\n",
    "                              max_bin = 55, bagging_fraction = 0.8,\n",
    "                              bagging_freq = 5, feature_fraction = 0.2319,\n",
    "                              feature_fraction_seed=9, bagging_seed=9,\n",
    "                              min_data_in_leaf =6, min_sum_hessian_in_leaf = 11)\n",
    "rmse_cv(model_lgb)"
   ]
  },
  {
   "cell_type": "code",
   "execution_count": null,
   "id": "cross-therapist",
   "metadata": {},
   "outputs": [],
   "source": []
  },
  {
   "cell_type": "code",
   "execution_count": 90,
   "id": "romantic-engineer",
   "metadata": {},
   "outputs": [],
   "source": [
    "from sklearn.base import BaseEstimator, TransformerMixin, RegressorMixin, clone\n",
    "class AveragingModels(BaseEstimator, RegressorMixin, TransformerMixin):\n",
    "    def __init__(self, models):\n",
    "        self.models = models\n",
    "    # we define clones of the original models to fit the data in\n",
    "    def fit(self, X, y):\n",
    "        self.models_ = [clone(x) for x in self.models]\n",
    "        # Train cloned base models\n",
    "        for model in self.models_:\n",
    "            model.fit(X, y)\n",
    "        return self\n",
    "    #Now we do the predictions for cloned models and average them\n",
    "    def predict(self, X):\n",
    "        predictions = np.column_stack([\n",
    "            model.predict(X) for model in self.models_\n",
    "        ])\n",
    "        return np.mean(predictions, axis=1)"
   ]
  },
  {
   "cell_type": "code",
   "execution_count": 93,
   "id": "sudden-europe",
   "metadata": {},
   "outputs": [
    {
     "name": "stderr",
     "output_type": "stream",
     "text": [
      "C:\\Users\\alvin\\anaconda3\\envs\\keras_env\\lib\\site-packages\\sklearn\\linear_model\\_coordinate_descent.py:532: ConvergenceWarning: Objective did not converge. You might want to increase the number of iterations. Duality gap: 74047.90741828026, tolerance: 113.64546809220093\n",
      "  positive)\n",
      "C:\\Users\\alvin\\anaconda3\\envs\\keras_env\\lib\\site-packages\\sklearn\\linear_model\\_coordinate_descent.py:532: ConvergenceWarning: Objective did not converge. You might want to increase the number of iterations. Duality gap: 88994.66145362568, tolerance: 113.64546809220093\n",
      "  positive)\n",
      "C:\\Users\\alvin\\anaconda3\\envs\\keras_env\\lib\\site-packages\\sklearn\\linear_model\\_coordinate_descent.py:532: ConvergenceWarning: Objective did not converge. You might want to increase the number of iterations. Duality gap: 71920.06731698138, tolerance: 111.97595024975767\n",
      "  positive)\n",
      "C:\\Users\\alvin\\anaconda3\\envs\\keras_env\\lib\\site-packages\\sklearn\\linear_model\\_coordinate_descent.py:532: ConvergenceWarning: Objective did not converge. You might want to increase the number of iterations. Duality gap: 74882.45752875751, tolerance: 111.97595024975767\n",
      "  positive)\n",
      "C:\\Users\\alvin\\anaconda3\\envs\\keras_env\\lib\\site-packages\\sklearn\\linear_model\\_coordinate_descent.py:532: ConvergenceWarning: Objective did not converge. You might want to increase the number of iterations. Duality gap: 81358.20842788932, tolerance: 117.46487450404838\n",
      "  positive)\n",
      "C:\\Users\\alvin\\anaconda3\\envs\\keras_env\\lib\\site-packages\\sklearn\\linear_model\\_coordinate_descent.py:532: ConvergenceWarning: Objective did not converge. You might want to increase the number of iterations. Duality gap: 82159.84103156948, tolerance: 117.46487450404838\n",
      "  positive)\n",
      "C:\\Users\\alvin\\anaconda3\\envs\\keras_env\\lib\\site-packages\\sklearn\\linear_model\\_coordinate_descent.py:532: ConvergenceWarning: Objective did not converge. You might want to increase the number of iterations. Duality gap: 83993.24511037086, tolerance: 119.48649016396108\n",
      "  positive)\n",
      "C:\\Users\\alvin\\anaconda3\\envs\\keras_env\\lib\\site-packages\\sklearn\\linear_model\\_coordinate_descent.py:532: ConvergenceWarning: Objective did not converge. You might want to increase the number of iterations. Duality gap: 81942.2299849696, tolerance: 119.48649016396108\n",
      "  positive)\n",
      "C:\\Users\\alvin\\anaconda3\\envs\\keras_env\\lib\\site-packages\\sklearn\\linear_model\\_coordinate_descent.py:532: ConvergenceWarning: Objective did not converge. You might want to increase the number of iterations. Duality gap: 82609.85114707456, tolerance: 119.50868922990857\n",
      "  positive)\n",
      "C:\\Users\\alvin\\anaconda3\\envs\\keras_env\\lib\\site-packages\\sklearn\\linear_model\\_coordinate_descent.py:532: ConvergenceWarning: Objective did not converge. You might want to increase the number of iterations. Duality gap: 84965.43253308977, tolerance: 119.50868922990857\n",
      "  positive)\n"
     ]
    },
    {
     "name": "stdout",
     "output_type": "stream",
     "text": [
      " Averaged base models score: 2.6900n\n"
     ]
    }
   ],
   "source": [
    "averaged_models = AveragingModels(models = (ENet, GBoost, KRR, lasso))\n",
    "score = rmse_cv(averaged_models)\n",
    "print(\" Averaged base models score: {:.4f}n\".format(score.mean()))"
   ]
  },
  {
   "cell_type": "code",
   "execution_count": null,
   "id": "floral-rwanda",
   "metadata": {},
   "outputs": [],
   "source": []
  },
  {
   "cell_type": "code",
   "execution_count": null,
   "id": "satisfactory-appearance",
   "metadata": {},
   "outputs": [],
   "source": []
  },
  {
   "cell_type": "code",
   "execution_count": null,
   "id": "helpful-garlic",
   "metadata": {},
   "outputs": [],
   "source": []
  },
  {
   "cell_type": "code",
   "execution_count": null,
   "id": "failing-vulnerability",
   "metadata": {},
   "outputs": [],
   "source": []
  },
  {
   "cell_type": "code",
   "execution_count": null,
   "id": "hungarian-afghanistan",
   "metadata": {},
   "outputs": [],
   "source": []
  },
  {
   "cell_type": "code",
   "execution_count": null,
   "id": "thrown-interim",
   "metadata": {},
   "outputs": [],
   "source": []
  },
  {
   "cell_type": "code",
   "execution_count": null,
   "id": "satisfactory-soviet",
   "metadata": {},
   "outputs": [],
   "source": []
  }
 ],
 "metadata": {
  "kernelspec": {
   "display_name": "Python 3",
   "language": "python",
   "name": "python3"
  },
  "language_info": {
   "codemirror_mode": {
    "name": "ipython",
    "version": 3
   },
   "file_extension": ".py",
   "mimetype": "text/x-python",
   "name": "python",
   "nbconvert_exporter": "python",
   "pygments_lexer": "ipython3",
   "version": "3.7.10"
  }
 },
 "nbformat": 4,
 "nbformat_minor": 5
}
